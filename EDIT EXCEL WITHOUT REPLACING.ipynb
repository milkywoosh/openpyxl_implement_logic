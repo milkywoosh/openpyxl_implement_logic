{
 "cells": [
  {
   "cell_type": "markdown",
   "id": "01b693b1",
   "metadata": {},
   "source": [
    "# EDIT EXCEL WITHOUT REPLACING"
   ]
  },
  {
   "cell_type": "code",
   "execution_count": 3,
   "id": "666a8e98",
   "metadata": {},
   "outputs": [],
   "source": [
    "import pandas as pd\n",
    "import numpy as np\n",
    "import os\n",
    "import copy\n",
    "import xlsxwriter\n",
    "from datetime import date\n"
   ]
  },
  {
   "cell_type": "code",
   "execution_count": 4,
   "id": "3246fc6b",
   "metadata": {},
   "outputs": [
    {
     "data": {
      "text/plain": [
       "'/Users/macbook/jupylkm'"
      ]
     },
     "execution_count": 4,
     "metadata": {},
     "output_type": "execute_result"
    }
   ],
   "source": [
    "os.getcwd()"
   ]
  },
  {
   "cell_type": "code",
   "execution_count": 6,
   "id": "2e84e7f1",
   "metadata": {},
   "outputs": [
    {
     "data": {
      "text/plain": [
       "['simple1.pdf',\n",
       " '.DS_Store',\n",
       " 'open_jupyter.txt',\n",
       " 'destination.pdf',\n",
       " 'Generate Notelpon Update 25 SEPT 2021.ipynb',\n",
       " 'myp.pdf',\n",
       " '1-8 mei.csv',\n",
       " 'EDIT EXCEL WITHOUT REPLACING.ipynb',\n",
       " 'RETURN ANALISIS CLIENT ALL CABANG 22 SEPT 2021.ipynb',\n",
       " 'trial_opyxl.xlsx',\n",
       " '.gitignore',\n",
       " 'ANALISA PRESENTASE CLIENT 2021.ipynb',\n",
       " '.ipynb_checkpoints',\n",
       " 'savedPDF',\n",
       " '.git',\n",
       " 'RETURN ANALISIS CLIENT ALL CABANG 2021.ipynb']"
      ]
     },
     "execution_count": 6,
     "metadata": {},
     "output_type": "execute_result"
    }
   ],
   "source": [
    "[f for f in os.listdir(os.getcwd())]"
   ]
  },
  {
   "cell_type": "code",
   "execution_count": 8,
   "id": "df60e5ec",
   "metadata": {},
   "outputs": [],
   "source": [
    "from openpyxl import load_workbook\n",
    "# trial_opyxl.xlsx\n",
    "\n",
    "#load excel file\n",
    "workbook = load_workbook(filename=\"./trial_opyxl.xlsx\")\n",
    " \n",
    "#open workbook\n",
    "sheet = workbook.active\n",
    " \n",
    "#modify the desired cell\n",
    "sheet[\"F2\"] = \"Full NAMEEEEEE\"\n",
    " \n",
    "#save the file\n",
    "workbook.save(filename=\"trial_opyxl.xlsx\")\n"
   ]
  },
  {
   "cell_type": "code",
   "execution_count": null,
   "id": "fcc490e2",
   "metadata": {},
   "outputs": [],
   "source": [
    "ws = workbook.worksheets[0]\n",
    "ws['A1'] = 1\n",
    "ws.cell(row=2, column=2).value = 2"
   ]
  },
  {
   "cell_type": "code",
   "execution_count": 180,
   "id": "3aadb1c4",
   "metadata": {
    "scrolled": true
   },
   "outputs": [
    {
     "name": "stdout",
     "output_type": "stream",
     "text": [
      "(1, 'a1', 'beni', 12, '=IF(D2>= 12, \"LEGAL\",\"NOT LEGAL\")', 'GOOD') ---> 0\n",
      "(5, 'a5', 'ron', 12, '=IF(D6>= 12, \"LEGAL\",\"NOT LEGAL\")', 'GOOD') ---> 4\n",
      "(6, 'a6', 'dan', 13, '=IF(D7>= 12, \"LEGAL\",\"NOT LEGAL\")', 'GOOD') ---> 5\n"
     ]
    }
   ],
   "source": [
    "from openpyxl import load_workbook\n",
    "# trial_opyxl.xlsx\n",
    "\n",
    "#load excel file\n",
    "workbook = load_workbook(filename=\"./trial_opyxl.xlsx\")\n",
    "\n",
    "#open workbook\n",
    "sheet = workbook.active\n",
    "for count, row in enumerate(sheet.iter_rows(min_row=2,max_row=7, min_col=1, max_col=6, values_only=True)):\n",
    "#     print(row[3])\n",
    "    ws = workbook.worksheets[0]\n",
    "    if (row[3] >= 12):\n",
    "        print(row, \"--->\", count)\n",
    "        ws.cell(row=1, column=1).value='test'\n",
    "        \n",
    "            \n",
    "workbook.save(filename=\"./trial_opyxl.xlsx\")\n",
    "\n"
   ]
  },
  {
   "cell_type": "markdown",
   "id": "a6bd3da3",
   "metadata": {},
   "source": [
    "## BASIC LOGIC ITERATING AND FILL CELL"
   ]
  },
  {
   "cell_type": "code",
   "execution_count": 138,
   "id": "39df18ec",
   "metadata": {
    "collapsed": true
   },
   "outputs": [
    {
     "name": "stdout",
     "output_type": "stream",
     "text": [
      "<class 'str'> age 1\n",
      "<class 'int'> 12 2\n",
      "12\n",
      "<class 'int'> 9 3\n",
      "9\n",
      "<class 'int'> 8 4\n",
      "8\n",
      "<class 'int'> 7 5\n",
      "<class 'int'> 12 6\n",
      "12\n",
      "<class 'int'> 13 7\n",
      "13\n",
      "<class 'NoneType'> None 8\n",
      "<class 'NoneType'> None 9\n",
      "<class 'NoneType'> None 10\n",
      "<class 'NoneType'> None 11\n",
      "<class 'NoneType'> None 12\n"
     ]
    }
   ],
   "source": [
    "from openpyxl import load_workbook\n",
    "# trial_opyxl.xlsx\n",
    "\n",
    "#load excel file\n",
    "wb = load_workbook(filename=\"./trial_opyxl.xlsx\")\n",
    "for ws in wb.worksheets:\n",
    "    for index, row in enumerate(ws.rows, start=1):\n",
    "        print (type(row[3].value), row[3].value, index)\n",
    "        if (isinstance(row[3].value, int) and row[3].value >= 8):            \n",
    "            print(row[3].value)\n",
    "            ws.cell(row=index, column=6).value = \"GOOD\"\n",
    " \n",
    "      \n",
    "wb.save(filename=\"./trial_opyxl.xlsx\")"
   ]
  },
  {
   "cell_type": "markdown",
   "id": "2fb6b8fa",
   "metadata": {},
   "source": [
    "## IMPLEMENT VLOOKUP TO EACH CELL\n",
    "harus pakai , separator untuk vlookup !!!"
   ]
  },
  {
   "cell_type": "code",
   "execution_count": 190,
   "id": "b1872269",
   "metadata": {},
   "outputs": [],
   "source": [
    "# =VLOOKUP(B2:B7;B10:C12;2;0)\n",
    "from openpyxl import load_workbook\n",
    "# trial_opyxl.xlsx\n",
    "\n",
    "#load excel file\n",
    "wb = load_workbook(filename=\"./pod_apl.xlsx\", data_only=True)\n",
    "ws1 = wb['MAIN_DATA']\n",
    "\n",
    "for row in ws1['E1:E244']:\n",
    "    \n",
    "    for cell in row:\n",
    "        if (cell.value == None):\n",
    "#             =VLOOKUP(A{0},Sheet1!$A$1:$B$9,2,2,FALSE).format(cell.row)\n",
    "            cell.value=\"=VLOOKUP(A{0},SOURCE!$A$1:$B$242,2,FALSE)\".format(cell.row)\n",
    "#         print(cell.value)\n",
    "        else:\n",
    "            continue\n",
    "wb.save(filename=\"./pod_apl.xlsx\")\n",
    "\n",
    "\n",
    "\n",
    "# for row in ws1 ['A1:A4']:\n",
    "#     for cell in row:\n",
    "#         cell.value = \"=VLOOKUP(A{0}, 'New'!A1:B4, 2, FALSE)\".format(cell.row)"
   ]
  },
  {
   "cell_type": "markdown",
   "id": "cc9169da",
   "metadata": {},
   "source": [
    "## Test IMPROVE OKAY -- DOUBLE LOOP"
   ]
  },
  {
   "cell_type": "code",
   "execution_count": 194,
   "id": "82b037d6",
   "metadata": {},
   "outputs": [],
   "source": [
    "# =VLOOKUP(B2:B7;B10:C12;2;0)\n",
    "from openpyxl import load_workbook\n",
    "# trial_opyxl.xlsx\n",
    "\n",
    "#load excel file\n",
    "wb = load_workbook(filename=\"./pod_apl.xlsx\", data_only=True)\n",
    "ws1 = wb['MAIN_DATA']\n",
    "\n",
    "for row in ws1['F1:F244']:\n",
    "    \n",
    "    for cell in row:\n",
    "        if (cell.value == None):\n",
    "#             =VLOOKUP(A{0},Sheet1!$A$1:$B$9,2,2,FALSE).format(cell.row)\n",
    "            cell.value='''=IF(VLOOKUP(A{0},SOURCE!$A$1:$C$242,3,FALSE) = \"BANDUNG\",\"WOKE\", FALSE)'''.format(cell.row)\n",
    "#         print(cell.value)\n",
    "        else:\n",
    "            continue\n",
    "            \n",
    "# =IF(VLOOKUP(A2;SOURCE!$A$1:$C$242;3;FALSE) = \"BANDUNG\";\"WOKE\"; FALSE)            \n",
    "\n",
    "for row in ws1['E1:E244']:\n",
    "    \n",
    "    for cell in row:\n",
    "        if (cell.value == None):\n",
    "#             =VLOOKUP(A{0},Sheet1!$A$1:$B$9,2,2,FALSE).format(cell.row)\n",
    "            cell.value=\"=VLOOKUP(A{0},SOURCE!$A$1:$B$242,2,FALSE)\".format(cell.row)\n",
    "#         print(cell.value)\n",
    "        else:\n",
    "            continue\n",
    "\n",
    "wb.save(filename=\"./pod_apl.xlsx\")\n",
    "\n",
    "\n",
    "\n",
    "# for row in ws1 ['A1:A4']:\n",
    "#     for cell in row:\n",
    "#         cell.value = \"=VLOOKUP(A{0}, 'New'!A1:B4, 2, FALSE)\".format(cell.row)=IF(VLOOKUP(A2;SOURCE!$A$1:$C$242;3;FALSE) = \"BANDUNG\";\"WOKE\"; FALSE)"
   ]
  },
  {
   "cell_type": "markdown",
   "id": "7a1f5f70",
   "metadata": {},
   "source": [
    "# STYLING"
   ]
  },
  {
   "cell_type": "code",
   "execution_count": 200,
   "id": "caf2f402",
   "metadata": {},
   "outputs": [],
   "source": [
    "from openpyxl import load_workbook\n",
    "from openpyxl.styles import colors\n",
    "from openpyxl.styles import Font, Color, PatternFill\n",
    "\n",
    "# https://openpyxl.readthedocs.io/en/stable/styles.html\n",
    "\n",
    "#load excel file\n",
    "wb = load_workbook(filename=\"./pod_apl.xlsx\", data_only=True)\n",
    "ws1 = wb['MAIN_DATA']\n",
    "\n",
    "for row in ws1['E1:E244']:\n",
    "    \n",
    "    for cell in row:\n",
    "        if (cell.value == None):\n",
    "#             =VLOOKUP(A{0},Sheet1!$A$1:$B$9,2,2,FALSE).format(cell.row)\n",
    "            cell.value=\"=VLOOKUP(A{0},SOURCE!$A$1:$B$242,2,FALSE)\".format(cell.row)\n",
    "#            COLOR FONT GREEN\n",
    "            cell.font = Font(color=\"0000FF00\", italic=True)\n",
    "#            FILL CELL COLOR BLACK\n",
    "            cell.fill = PatternFill(\"solid\", fgColor=\"00000000\")\n",
    "#         print(cell.value)\n",
    "        else:\n",
    "            continue\n",
    "wb.save(filename=\"./pod_apl.xlsx\")\n",
    "\n",
    "\n",
    "\n",
    "# for row in ws1 ['A1:A4']:\n",
    "#     for cell in row:\n",
    "#         cell.value = \"=VLOOKUP(A{0}, 'New'!A1:B4, 2, FALSE)\".format(cell.row)"
   ]
  }
 ],
 "metadata": {
  "kernelspec": {
   "display_name": "Python 3",
   "language": "python",
   "name": "python3"
  },
  "language_info": {
   "codemirror_mode": {
    "name": "ipython",
    "version": 3
   },
   "file_extension": ".py",
   "mimetype": "text/x-python",
   "name": "python",
   "nbconvert_exporter": "python",
   "pygments_lexer": "ipython3",
   "version": "3.8.5"
  },
  "toc": {
   "base_numbering": 1,
   "nav_menu": {},
   "number_sections": true,
   "sideBar": true,
   "skip_h1_title": false,
   "title_cell": "Table of Contents",
   "title_sidebar": "Contents",
   "toc_cell": false,
   "toc_position": {},
   "toc_section_display": true,
   "toc_window_display": false
  }
 },
 "nbformat": 4,
 "nbformat_minor": 5
}
